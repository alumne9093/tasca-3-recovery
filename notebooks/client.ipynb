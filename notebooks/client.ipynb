{
 "cells": [
  {
   "cell_type": "markdown",
   "id": "10bdba2b",
   "metadata": {},
   "source": [
    "## Requests predict_lr: Uno \"No-Pulsar\" y otro \"Pulsar\""
   ]
  },
  {
   "cell_type": "code",
   "execution_count": 6,
   "id": "acfb92e7",
   "metadata": {
    "vscode": {
     "languageId": "bat"
    }
   },
   "outputs": [
    {
     "name": "stdout",
     "output_type": "stream",
     "text": [
      "{\n",
      "  \"probabilidad_pulsar\": 0.0013236934520086453,\n",
      "  \"resultado\": \"No-Pulsar\"\n",
      "}\n"
     ]
    },
    {
     "name": "stderr",
     "output_type": "stream",
     "text": [
      "  % Total    % Received % Xferd  Average Speed   Time    Time     Time  Current\n",
      "                                 Dload  Upload   Total   Spent    Left  Speed\n",
      "\n",
      "  0     0    0     0    0     0      0      0 --:--:-- --:--:-- --:--:--     0\n",
      "100   339    0     0  100   339      0    334  0:00:01  0:00:01 --:--:--   334\n",
      "100   339    0     0  100   339      0    167  0:00:02  0:00:02 --:--:--   167\n",
      "100   339    0     0  100   339      0    111  0:00:03  0:00:03 --:--:--   111\n",
      "100   418  100    79  100   339     19     85  0:00:04  0:00:03  0:00:01   105\n",
      "100   418  100    79  100   339     19     85  0:00:04  0:00:03  0:00:01   105\n"
     ]
    }
   ],
   "source": [
    "!curl --request POST \"http://127.0.0.1:8000/predict_lr\" \\\n",
    "--header \"Content-Type: application/json\" \\\n",
    "--data-raw \"{\\\n",
    "    \\\"mean_integrated_profile\\\": 140.5625,\\\n",
    "    \\\"std_integrated_profile\\\": 55.683782,\\\n",
    "    \\\"excess_kurtosis_integrated_profile\\\": -0.234571,\\\n",
    "    \\\"skewness_integrated_profile\\\": -0.699648,\\\n",
    "    \\\"mean_dm_snr_curve\\\": 3.199833,\\\n",
    "    \\\"std_dm_snr_curve\\\": 19.110426,\\\n",
    "    \\\"excess_kurtosis_dm_snr_curve\\\": 7.975532,\\\n",
    "    \\\"skewness_dm_snr_curve\\\": 74.242225\\\n",
    "}\"\n"
   ]
  },
  {
   "cell_type": "code",
   "execution_count": 7,
   "id": "f75c65b3",
   "metadata": {
    "vscode": {
     "languageId": "bat"
    }
   },
   "outputs": [
    {
     "name": "stdout",
     "output_type": "stream",
     "text": [
      "{\n",
      "  \"probabilidad_pulsar\": 0.8882424932527878,\n",
      "  \"resultado\": \"Pulsar\"\n",
      "}\n"
     ]
    },
    {
     "name": "stderr",
     "output_type": "stream",
     "text": [
      "  % Total    % Received % Xferd  Average Speed   Time    Time     Time  Current\n",
      "                                 Dload  Upload   Total   Spent    Left  Speed\n",
      "\n",
      "  0     0    0     0    0     0      0      0 --:--:-- --:--:-- --:--:--     0\n",
      "100   429  100    73  100   356   3765  18361 --:--:-- --:--:-- --:--:-- 22578\n"
     ]
    }
   ],
   "source": [
    "!curl --request POST \"http://127.0.0.1:8000/predict_lr\" \\\n",
    "--header \"Content-Type: application/json\" \\\n",
    "--data-raw \"{\\\n",
    "    \\\"mean_integrated_profile\\\": 99.3671875,\\\n",
    "    \\\"std_integrated_profile\\\": 41.57220208,\\\n",
    "    \\\"excess_kurtosis_integrated_profile\\\": 1.547196967,\\\n",
    "    \\\"skewness_integrated_profile\\\": 4.154106043,\\\n",
    "    \\\"mean_dm_snr_curve\\\": 27.55518395,\\\n",
    "    \\\"std_dm_snr_curve\\\": 61.71901588,\\\n",
    "    \\\"excess_kurtosis_dm_snr_curve\\\": 2.20880796,\\\n",
    "    \\\"skewness_dm_snr_curve\\\": 3.662680136\\\n",
    "}\"\n"
   ]
  },
  {
   "cell_type": "markdown",
   "id": "54f0be46",
   "metadata": {},
   "source": [
    "### Conclusiones\n",
    "- Vemos que para el primer caso el cual con los datos del request body debio de dar que no es un Pulsar\n",
    "y como vemos efectivamente dio no lo es, podemos ver también probabilidad de que fuera un Pulsar es muy baja\n",
    "por lo cual la efectividad del modelo de Regresión Logística es bastante buena\n",
    "- Por otro lado para el segundo caso donde con el request body que tenemos debería de dar que si es un Pulsar\n",
    "vemos que logra acertar y con una probabilidad muy buena"
   ]
  },
  {
   "cell_type": "markdown",
   "id": "d14802ee",
   "metadata": {},
   "source": [
    "## Requests predict_dt: Uno \"No-Pulsar\" y otro \"Pulsar\""
   ]
  },
  {
   "cell_type": "code",
   "execution_count": 8,
   "id": "27b6be8b",
   "metadata": {
    "vscode": {
     "languageId": "bat"
    }
   },
   "outputs": [
    {
     "name": "stdout",
     "output_type": "stream",
     "text": [
      "{\n",
      "  \"probabilidad_pulsar\": 0.0036114570361145703,\n",
      "  \"resultado\": \"No-Pulsar\"\n",
      "}\n"
     ]
    },
    {
     "name": "stderr",
     "output_type": "stream",
     "text": [
      "  % Total    % Received % Xferd  Average Speed   Time    Time     Time  Current\n",
      "                                 Dload  Upload   Total   Spent    Left  Speed\n",
      "\n",
      "  0     0    0     0    0     0      0      0 --:--:-- --:--:-- --:--:--     0\n",
      "100   418  100    79  100   339    611   2622 --:--:-- --:--:-- --:--:--  3240\n"
     ]
    }
   ],
   "source": [
    "!curl --request POST \"http://127.0.0.1:8000/predict_dt\" \\\n",
    "--header \"Content-Type: application/json\" \\\n",
    "--data-raw \"{\\\n",
    "    \\\"mean_integrated_profile\\\": 140.5625,\\\n",
    "    \\\"std_integrated_profile\\\": 55.683782,\\\n",
    "    \\\"excess_kurtosis_integrated_profile\\\": -0.234571,\\\n",
    "    \\\"skewness_integrated_profile\\\": -0.699648,\\\n",
    "    \\\"mean_dm_snr_curve\\\": 3.199833,\\\n",
    "    \\\"std_dm_snr_curve\\\": 19.110426,\\\n",
    "    \\\"excess_kurtosis_dm_snr_curve\\\": 7.975532,\\\n",
    "    \\\"skewness_dm_snr_curve\\\": 74.242225\\\n",
    "}\"\n"
   ]
  },
  {
   "cell_type": "code",
   "execution_count": 9,
   "id": "26f3e6f8",
   "metadata": {
    "vscode": {
     "languageId": "bat"
    }
   },
   "outputs": [
    {
     "name": "stdout",
     "output_type": "stream",
     "text": [
      "{\n",
      "  \"probabilidad_pulsar\": 0.8099173553719008,\n",
      "  \"resultado\": \"Pulsar\"\n",
      "}\n"
     ]
    },
    {
     "name": "stderr",
     "output_type": "stream",
     "text": [
      "  % Total    % Received % Xferd  Average Speed   Time    Time     Time  Current\n",
      "                                 Dload  Upload   Total   Spent    Left  Speed\n",
      "\n",
      "  0     0    0     0    0     0      0      0 --:--:-- --:--:-- --:--:--     0\n",
      "100   429  100    73  100   356   3650  17800 --:--:-- --:--:-- --:--:-- 22578\n"
     ]
    }
   ],
   "source": [
    "!curl --request POST \"http://127.0.0.1:8000/predict_dt\" \\\n",
    "--header \"Content-Type: application/json\" \\\n",
    "--data-raw \"{\\\n",
    "    \\\"mean_integrated_profile\\\": 99.3671875,\\\n",
    "    \\\"std_integrated_profile\\\": 41.57220208,\\\n",
    "    \\\"excess_kurtosis_integrated_profile\\\": 1.547196967,\\\n",
    "    \\\"skewness_integrated_profile\\\": 4.154106043,\\\n",
    "    \\\"mean_dm_snr_curve\\\": 27.55518395,\\\n",
    "    \\\"std_dm_snr_curve\\\": 61.71901588,\\\n",
    "    \\\"excess_kurtosis_dm_snr_curve\\\": 2.20880796,\\\n",
    "    \\\"skewness_dm_snr_curve\\\": 3.662680136\\\n",
    "}\"\n"
   ]
  },
  {
   "cell_type": "markdown",
   "id": "c1f7d5fa",
   "metadata": {},
   "source": [
    "### Conclusiones\n",
    "- Vemos que para el primer caso que como ya sabemos con este request body debio de dar que no es un Pulsar,\n",
    "podemos ver que el modelo acerto también, donde está vez dio una probabilidad un poco por encima del que dio con el modelo de Regresión Logística\n",
    "- Para el segundo caso donde debería de dar que si es un Pulsar vemos que logra acertar pero con una probabilidad\n",
    "un poco menor a la dada por el modelo de Regresión Logística\n",
    "- Con esto al menos concluyo que usando el modelo de Decision Trees obtenemos bien los resultados pero las probabilidades\n",
    "fueron un poco menos efectivas que con el modelo de Regresión Logística"
   ]
  },
  {
   "cell_type": "markdown",
   "id": "5a34b1e5",
   "metadata": {},
   "source": [
    "## Requests predict_svm: Uno \"No-Pulsar\" y otro \"Pulsar\""
   ]
  },
  {
   "cell_type": "code",
   "execution_count": 10,
   "id": "cee852a2",
   "metadata": {
    "vscode": {
     "languageId": "bat"
    }
   },
   "outputs": [
    {
     "name": "stdout",
     "output_type": "stream",
     "text": [
      "{\n",
      "  \"probabilidad_pulsar\": 0.00208329013508848,\n",
      "  \"resultado\": \"No-Pulsar\"\n",
      "}\n"
     ]
    },
    {
     "name": "stderr",
     "output_type": "stream",
     "text": [
      "  % Total    % Received % Xferd  Average Speed   Time    Time     Time  Current\n",
      "                                 Dload  Upload   Total   Spent    Left  Speed\n",
      "\n",
      "  0     0    0     0    0     0      0      0 --:--:-- --:--:-- --:--:--     0\n",
      "100   416  100    77  100   339   4197  18478 --:--:-- --:--:-- --:--:-- 23111\n"
     ]
    }
   ],
   "source": [
    "!curl --request POST \"http://127.0.0.1:8000/predict_svm\" \\\n",
    "--header \"Content-Type: application/json\" \\\n",
    "--data-raw \"{\\\n",
    "    \\\"mean_integrated_profile\\\": 140.5625,\\\n",
    "    \\\"std_integrated_profile\\\": 55.683782,\\\n",
    "    \\\"excess_kurtosis_integrated_profile\\\": -0.234571,\\\n",
    "    \\\"skewness_integrated_profile\\\": -0.699648,\\\n",
    "    \\\"mean_dm_snr_curve\\\": 3.199833,\\\n",
    "    \\\"std_dm_snr_curve\\\": 19.110426,\\\n",
    "    \\\"excess_kurtosis_dm_snr_curve\\\": 7.975532,\\\n",
    "    \\\"skewness_dm_snr_curve\\\": 74.242225\\\n",
    "}\"\n"
   ]
  },
  {
   "cell_type": "code",
   "execution_count": 11,
   "id": "61def8e2",
   "metadata": {
    "vscode": {
     "languageId": "bat"
    }
   },
   "outputs": [
    {
     "name": "stdout",
     "output_type": "stream",
     "text": [
      "{\n",
      "  \"probabilidad_pulsar\": 0.932529338851452,\n",
      "  \"resultado\": \"Pulsar\"\n",
      "}\n"
     ]
    },
    {
     "name": "stderr",
     "output_type": "stream",
     "text": [
      "  % Total    % Received % Xferd  Average Speed   Time    Time     Time  Current\n",
      "                                 Dload  Upload   Total   Spent    Left  Speed\n",
      "\n",
      "  0     0    0     0    0     0      0      0 --:--:-- --:--:-- --:--:--     0\n",
      "100   428  100    72  100   356   3498  17298 --:--:-- --:--:-- --:--:-- 21400\n"
     ]
    }
   ],
   "source": [
    "!curl --request POST \"http://127.0.0.1:8000/predict_svm\" \\\n",
    "--header \"Content-Type: application/json\" \\\n",
    "--data-raw \"{\\\n",
    "    \\\"mean_integrated_profile\\\": 99.3671875,\\\n",
    "    \\\"std_integrated_profile\\\": 41.57220208,\\\n",
    "    \\\"excess_kurtosis_integrated_profile\\\": 1.547196967,\\\n",
    "    \\\"skewness_integrated_profile\\\": 4.154106043,\\\n",
    "    \\\"mean_dm_snr_curve\\\": 27.55518395,\\\n",
    "    \\\"std_dm_snr_curve\\\": 61.71901588,\\\n",
    "    \\\"excess_kurtosis_dm_snr_curve\\\": 2.20880796,\\\n",
    "    \\\"skewness_dm_snr_curve\\\": 3.662680136\\\n",
    "}\"\n"
   ]
  },
  {
   "cell_type": "markdown",
   "id": "c623b479",
   "metadata": {},
   "source": [
    "### Conclusiones\n",
    "- Para el primer caso donde no debería ser Pulsar vemos que acerto también con este modelo lo que respecto a la\n",
    "probabilidad dada vemos que fue un poco peor que el modelo de Regresión Logística pero un poco mejor que el de Decision Tree\n",
    "- Respecto al segundo caso vemos que también acerto y su probabilidad fue mejor que la de los 2 modelos anteriores, lo que al menos\n",
    "con este ejemplo el usar el modelo de Decision Tree dio una mejor probabilidad"
   ]
  },
  {
   "cell_type": "markdown",
   "id": "a3cbbd0b",
   "metadata": {},
   "source": [
    "## Requests predict_knn: Uno \"No-Pulsar\" y otro \"Pulsar\""
   ]
  },
  {
   "cell_type": "code",
   "execution_count": 12,
   "id": "cfa9d838",
   "metadata": {
    "vscode": {
     "languageId": "bat"
    }
   },
   "outputs": [
    {
     "name": "stdout",
     "output_type": "stream",
     "text": [
      "{\n",
      "  \"probabilidad_pulsar\": 0.0,\n",
      "  \"resultado\": \"No-Pulsar\"\n",
      "}\n"
     ]
    },
    {
     "name": "stderr",
     "output_type": "stream",
     "text": [
      "  % Total    % Received % Xferd  Average Speed   Time    Time     Time  Current\n",
      "                                 Dload  Upload   Total   Spent    Left  Speed\n",
      "\n",
      "  0     0    0     0    0     0      0      0 --:--:-- --:--:-- --:--:--     0\n",
      "100   400  100    61  100   339   3772  20963 --:--:-- --:--:-- --:--:-- 25000\n"
     ]
    }
   ],
   "source": [
    "!curl --request POST \"http://127.0.0.1:8000/predict_knn\" \\\n",
    "--header \"Content-Type: application/json\" \\\n",
    "--data-raw \"{\\\n",
    "    \\\"mean_integrated_profile\\\": 140.5625,\\\n",
    "    \\\"std_integrated_profile\\\": 55.683782,\\\n",
    "    \\\"excess_kurtosis_integrated_profile\\\": -0.234571,\\\n",
    "    \\\"skewness_integrated_profile\\\": -0.699648,\\\n",
    "    \\\"mean_dm_snr_curve\\\": 3.199833,\\\n",
    "    \\\"std_dm_snr_curve\\\": 19.110426,\\\n",
    "    \\\"excess_kurtosis_dm_snr_curve\\\": 7.975532,\\\n",
    "    \\\"skewness_dm_snr_curve\\\": 74.242225\\\n",
    "}\"\n"
   ]
  },
  {
   "cell_type": "code",
   "execution_count": 13,
   "id": "a75cb41c",
   "metadata": {
    "vscode": {
     "languageId": "bat"
    }
   },
   "outputs": [
    {
     "name": "stdout",
     "output_type": "stream",
     "text": [
      "{\n",
      "  \"probabilidad_pulsar\": 1.0,\n",
      "  \"resultado\": \"Pulsar\"\n",
      "}\n"
     ]
    },
    {
     "name": "stderr",
     "output_type": "stream",
     "text": [
      "  % Total    % Received % Xferd  Average Speed   Time    Time     Time  Current\n",
      "                                 Dload  Upload   Total   Spent    Left  Speed\n",
      "\n",
      "  0     0    0     0    0     0      0      0 --:--:-- --:--:-- --:--:--     0\n",
      "100   414  100    58  100   356   1893  11623 --:--:-- --:--:-- --:--:-- 13354\n",
      "100   414  100    58  100   356   1850  11356 --:--:-- --:--:-- --:--:-- 12937\n"
     ]
    }
   ],
   "source": [
    "!curl --request POST \"http://127.0.0.1:8000/predict_knn\" \\\n",
    "--header \"Content-Type: application/json\" \\\n",
    "--data-raw \"{\\\n",
    "    \\\"mean_integrated_profile\\\": 99.3671875,\\\n",
    "    \\\"std_integrated_profile\\\": 41.57220208,\\\n",
    "    \\\"excess_kurtosis_integrated_profile\\\": 1.547196967,\\\n",
    "    \\\"skewness_integrated_profile\\\": 4.154106043,\\\n",
    "    \\\"mean_dm_snr_curve\\\": 27.55518395,\\\n",
    "    \\\"std_dm_snr_curve\\\": 61.71901588,\\\n",
    "    \\\"excess_kurtosis_dm_snr_curve\\\": 2.20880796,\\\n",
    "    \\\"skewness_dm_snr_curve\\\": 3.662680136\\\n",
    "}\"\n"
   ]
  },
  {
   "cell_type": "markdown",
   "id": "c045aef0",
   "metadata": {},
   "source": [
    "### Conclusiones\n",
    "- Para el primer caso también vemos que acerto con este modelo y respecto a la probabilidad dada vemos por lejos (a comparación\n",
    "de los otros resultados) que este sin dudas fue el mejor con un resultado directo de 0.0\n",
    "- Mientras que en segundo caso vemos que también acerto y su probabilidad fue la mejor de todos los modelos con un valor de 1.0\n",
    "- Por lo cual al menos con estos ejemplos (los mismos usados en todos los modelos) vemos que el mejor que nos ha dado resultado ha\n",
    "sido el de KNN"
   ]
  }
 ],
 "metadata": {
  "kernelspec": {
   "display_name": ".venv",
   "language": "python",
   "name": "python3"
  },
  "language_info": {
   "codemirror_mode": {
    "name": "ipython",
    "version": 3
   },
   "file_extension": ".py",
   "mimetype": "text/x-python",
   "name": "python",
   "nbconvert_exporter": "python",
   "pygments_lexer": "ipython3",
   "version": "3.12.5"
  }
 },
 "nbformat": 4,
 "nbformat_minor": 5
}
